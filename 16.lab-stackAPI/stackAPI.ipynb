{
 "cells": [
  {
   "cell_type": "markdown",
   "metadata": {},
   "source": [
    "# StackAPI\n",
    "\n",
    "#### Import the necessary libraries here:"
   ]
  },
  {
   "cell_type": "code",
   "execution_count": 3,
   "metadata": {},
   "outputs": [],
   "source": [
    "import numpy as np\n",
    "import pandas as pd\n",
    "import json\n",
    "import requests\n",
    "from stackapi import StackAPI"
   ]
  },
  {
   "cell_type": "code",
   "execution_count": null,
   "metadata": {},
   "outputs": [],
   "source": []
  },
  {
   "cell_type": "markdown",
   "metadata": {},
   "source": [
    "#### Question 1: Find the questions and answers of last month."
   ]
  },
  {
   "cell_type": "code",
   "execution_count": 4,
   "metadata": {},
   "outputs": [
    {
     "name": "stdout",
     "output_type": "stream",
     "text": [
      "1591480800.0\n",
      "1594072800.0\n"
     ]
    }
   ],
   "source": [
    "import time\n",
    "import datetime\n",
    "\n",
    "date1 = '07/06/2020'\n",
    "date2 = '07/07/2020'\n",
    "ts1 = time.mktime(time.strptime(date1, \"%d/%m/%Y\"))\n",
    "ts2 = time.mktime(time.strptime(date2, \"%d/%m/%Y\"))\n",
    "print(ts1)\n",
    "print(ts2)"
   ]
  },
  {
   "cell_type": "code",
   "execution_count": 35,
   "metadata": {},
   "outputs": [],
   "source": [
    "# it will retrieve the last 500 comments\n",
    "\n",
    "SITE = StackAPI('stackoverflow')\n",
    "questions = SITE.fetch('questions',fromdate=1591480800 ,todate=1594072800)\n",
    "answers = SITE.fetch(\"answers\",fromdate=1591480800 ,todate=1594072800 )"
   ]
  },
  {
   "cell_type": "code",
   "execution_count": 43,
   "metadata": {},
   "outputs": [
    {
     "name": "stdout",
     "output_type": "stream",
     "text": [
      "dict_keys(['backoff', 'has_more', 'page', 'quota_max', 'quota_remaining', 'total', 'items'])\n",
      "dict_keys(['backoff', 'has_more', 'page', 'quota_max', 'quota_remaining', 'total', 'items'])\n"
     ]
    }
   ],
   "source": [
    "print(questions.keys())\n",
    "print(answers.keys())"
   ]
  },
  {
   "cell_type": "code",
   "execution_count": 40,
   "metadata": {},
   "outputs": [
    {
     "data": {
      "text/plain": [
       "{'tags': ['django', 'django-rest-framework'],\n",
       " 'owner': {'reputation': 1661,\n",
       "  'user_id': 1595510,\n",
       "  'user_type': 'registered',\n",
       "  'accept_rate': 69,\n",
       "  'profile_image': 'https://www.gravatar.com/avatar/666c2656f48ad13dcec856f128feccfb?s=128&d=identicon&r=PG',\n",
       "  'display_name': 'roundtheworld',\n",
       "  'link': 'https://stackoverflow.com/users/1595510/roundtheworld'},\n",
       " 'is_answered': False,\n",
       " 'view_count': 31,\n",
       " 'answer_count': 1,\n",
       " 'score': 0,\n",
       " 'last_activity_date': 1594130705,\n",
       " 'creation_date': 1594067364,\n",
       " 'last_edit_date': 1594124908,\n",
       " 'question_id': 62764036,\n",
       " 'content_license': 'CC BY-SA 4.0',\n",
       " 'link': 'https://stackoverflow.com/questions/62764036/django-rest-framework-get-unique-list-of-values-from-nested-structure',\n",
       " 'title': 'Django Rest Framework: Get unique list of values from nested structure'}"
      ]
     },
     "execution_count": 40,
     "metadata": {},
     "output_type": "execute_result"
    }
   ],
   "source": [
    "questions[\"items\"][0]"
   ]
  },
  {
   "cell_type": "code",
   "execution_count": 41,
   "metadata": {},
   "outputs": [
    {
     "data": {
      "text/plain": [
       "{'owner': {'reputation': 774,\n",
       "  'user_id': 6262757,\n",
       "  'user_type': 'registered',\n",
       "  'accept_rate': 40,\n",
       "  'profile_image': 'https://graph.facebook.com/1134014206619252/picture?type=large',\n",
       "  'display_name': 'Nam Vu',\n",
       "  'link': 'https://stackoverflow.com/users/6262757/nam-vu'},\n",
       " 'is_accepted': False,\n",
       " 'score': 1,\n",
       " 'last_activity_date': 1594130689,\n",
       " 'last_edit_date': 1594130689,\n",
       " 'creation_date': 1593469538,\n",
       " 'answer_id': 62647555,\n",
       " 'question_id': 62647070,\n",
       " 'content_license': 'CC BY-SA 4.0'}"
      ]
     },
     "execution_count": 41,
     "metadata": {},
     "output_type": "execute_result"
    }
   ],
   "source": [
    "answers[\"items\"][0]"
   ]
  },
  {
   "cell_type": "code",
   "execution_count": null,
   "metadata": {},
   "outputs": [],
   "source": []
  },
  {
   "cell_type": "markdown",
   "metadata": {},
   "source": [
    "#### Question 2: Find the most voted question from last month till today, with at least a score of 5 and tagged with 'python'. "
   ]
  },
  {
   "cell_type": "code",
   "execution_count": 93,
   "metadata": {},
   "outputs": [],
   "source": [
    "questions2 = SITE.fetch('questions',fromdate=1591480800 ,todate=1594072800,min=5,\n",
    "                       sort=\"votes\", tagged=\"python\")"
   ]
  },
  {
   "cell_type": "code",
   "execution_count": 94,
   "metadata": {},
   "outputs": [
    {
     "data": {
      "text/plain": [
       "dict_keys(['tags', 'owner', 'is_answered', 'view_count', 'closed_date', 'accepted_answer_id', 'answer_count', 'score', 'last_activity_date', 'creation_date', 'last_edit_date', 'question_id', 'link', 'closed_reason', 'title'])"
      ]
     },
     "execution_count": 94,
     "metadata": {},
     "output_type": "execute_result"
    }
   ],
   "source": [
    "questions2[\"items\"][0].keys()"
   ]
  },
  {
   "cell_type": "code",
   "execution_count": 95,
   "metadata": {},
   "outputs": [
    {
     "data": {
      "text/plain": [
       "{'tags': ['python', 'unicode'],\n",
       " 'owner': {'reputation': 6279,\n",
       "  'user_id': 219640,\n",
       "  'user_type': 'registered',\n",
       "  'accept_rate': 100,\n",
       "  'profile_image': 'https://i.stack.imgur.com/HFl1a.jpg?s=128&g=1',\n",
       "  'display_name': 'Erik Cederstrand',\n",
       "  'link': 'https://stackoverflow.com/users/219640/erik-cederstrand'},\n",
       " 'is_answered': True,\n",
       " 'view_count': 4173,\n",
       " 'closed_date': 1591696570,\n",
       " 'accepted_answer_id': 62256274,\n",
       " 'answer_count': 2,\n",
       " 'score': 67,\n",
       " 'last_activity_date': 1591656202,\n",
       " 'creation_date': 1591596582,\n",
       " 'last_edit_date': 1591656202,\n",
       " 'question_id': 62256014,\n",
       " 'link': 'https://stackoverflow.com/questions/62256014/does-python-forbid-two-similarly-looking-unicode-identifiers',\n",
       " 'closed_reason': 'Duplicate',\n",
       " 'title': 'Does Python forbid two similarly looking Unicode identifiers?'}"
      ]
     },
     "execution_count": 95,
     "metadata": {},
     "output_type": "execute_result"
    }
   ],
   "source": [
    "questions2[\"items\"][0]"
   ]
  },
  {
   "cell_type": "markdown",
   "metadata": {},
   "source": [
    "#### Question 3: Find the answers with id 6784."
   ]
  },
  {
   "cell_type": "code",
   "execution_count": 67,
   "metadata": {},
   "outputs": [],
   "source": [
    "answers2 = SITE.fetch('answers', ids=[6784])"
   ]
  },
  {
   "cell_type": "code",
   "execution_count": 68,
   "metadata": {},
   "outputs": [
    {
     "data": {
      "text/plain": [
       "{'backoff': 0,\n",
       " 'has_more': False,\n",
       " 'page': 1,\n",
       " 'quota_max': 300,\n",
       " 'quota_remaining': 300,\n",
       " 'total': 0,\n",
       " 'items': [{'owner': {'reputation': 28885,\n",
       "    'user_id': 758,\n",
       "    'user_type': 'registered',\n",
       "    'accept_rate': 77,\n",
       "    'profile_image': 'https://www.gravatar.com/avatar/0b4adc19284ed0751844d610555dc6b2?s=128&d=identicon&r=PG',\n",
       "    'display_name': 'Mark Renouf',\n",
       "    'link': 'https://stackoverflow.com/users/758/mark-renouf'},\n",
       "   'is_accepted': False,\n",
       "   'score': 0,\n",
       "   'last_activity_date': 1218291583,\n",
       "   'creation_date': 1218291583,\n",
       "   'answer_id': 6784,\n",
       "   'question_id': 6778,\n",
       "   'content_license': 'CC BY-SA 2.5'}]}"
      ]
     },
     "execution_count": 68,
     "metadata": {},
     "output_type": "execute_result"
    }
   ],
   "source": [
    "answers2"
   ]
  },
  {
   "cell_type": "code",
   "execution_count": null,
   "metadata": {},
   "outputs": [],
   "source": []
  }
 ],
 "metadata": {
  "kernelspec": {
   "display_name": "Python 3",
   "language": "python",
   "name": "python3"
  },
  "language_info": {
   "codemirror_mode": {
    "name": "ipython",
    "version": 3
   },
   "file_extension": ".py",
   "mimetype": "text/x-python",
   "name": "python",
   "nbconvert_exporter": "python",
   "pygments_lexer": "ipython3",
   "version": "3.8.3"
  },
  "toc": {
   "base_numbering": 1,
   "nav_menu": {},
   "number_sections": true,
   "sideBar": true,
   "skip_h1_title": false,
   "title_cell": "Table of Contents",
   "title_sidebar": "Contents",
   "toc_cell": false,
   "toc_position": {},
   "toc_section_display": true,
   "toc_window_display": false
  }
 },
 "nbformat": 4,
 "nbformat_minor": 2
}
