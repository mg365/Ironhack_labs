{
 "cells": [
  {
   "cell_type": "markdown",
   "metadata": {},
   "source": [
    "# API Scavenger Game\n",
    "\n",
    "## Challenge 1: Fork Languages\n",
    "\n",
    "You will find out how many programming languages are used among all the forks created from the main lab repo of your bootcamp."
   ]
  },
  {
   "cell_type": "code",
   "execution_count": 1,
   "metadata": {},
   "outputs": [],
   "source": [
    "import requests\n",
    "import json\n",
    "import pandas as pd\n",
    "import getpass"
   ]
  },
  {
   "cell_type": "markdown",
   "metadata": {},
   "source": [
    "Assuming the main lab repo is ironhack-datalabs/madrid-oct-2018, you will:\n",
    "\n",
    "#### 1. Obtain the full list of forks created from the main lab repo via Github API."
   ]
  },
  {
   "cell_type": "markdown",
   "metadata": {},
   "source": [
    "To list forks, we can use the GET method. As explained in the GitHub API documentation, we need to make the request to: GET /repos/:owner/:repo/forks."
   ]
  },
  {
   "cell_type": "code",
   "execution_count": 3,
   "metadata": {},
   "outputs": [],
   "source": [
    "# Get requests of the forks of the repository\n",
    "\n",
    "url = 'https://api.github.com/repos/ironhack-datalabs/madrid-oct-2018/forks'\n",
    "\n",
    "forks_response = requests.get(url)\n",
    "\n",
    "#response in the form of a list\n",
    "\n",
    "forks_resp_json = forks_response.json()\n"
   ]
  },
  {
   "cell_type": "code",
   "execution_count": 36,
   "metadata": {
    "collapsed": true
   },
   "outputs": [
    {
     "data": {
      "text/plain": [
       "dict_keys(['id', 'node_id', 'name', 'full_name', 'private', 'owner', 'html_url', 'description', 'fork', 'url', 'forks_url', 'keys_url', 'collaborators_url', 'teams_url', 'hooks_url', 'issue_events_url', 'events_url', 'assignees_url', 'branches_url', 'tags_url', 'blobs_url', 'git_tags_url', 'git_refs_url', 'trees_url', 'statuses_url', 'languages_url', 'stargazers_url', 'contributors_url', 'subscribers_url', 'subscription_url', 'commits_url', 'git_commits_url', 'comments_url', 'issue_comment_url', 'contents_url', 'compare_url', 'merges_url', 'archive_url', 'downloads_url', 'issues_url', 'pulls_url', 'milestones_url', 'notifications_url', 'labels_url', 'releases_url', 'deployments_url', 'created_at', 'updated_at', 'pushed_at', 'git_url', 'ssh_url', 'clone_url', 'svn_url', 'homepage', 'size', 'stargazers_count', 'watchers_count', 'language', 'has_issues', 'has_projects', 'has_downloads', 'has_wiki', 'has_pages', 'forks_count', 'mirror_url', 'archived', 'disabled', 'open_issues_count', 'license', 'forks', 'open_issues', 'watchers', 'default_branch'])"
      ]
     },
     "execution_count": 36,
     "metadata": {},
     "output_type": "execute_result"
    }
   ],
   "source": [
    "forks_resp_json[0].keys()"
   ]
  },
  {
   "cell_type": "code",
   "execution_count": 37,
   "metadata": {
    "collapsed": true
   },
   "outputs": [
    {
     "name": "stdout",
     "output_type": "stream",
     "text": [
      "{\n",
      "      \"id\": 220066216,\n",
      "      \"node_id\": \"MDEwOlJlcG9zaXRvcnkyMjAwNjYyMTY=\",\n",
      "      \"name\": \"mad-oct-2018\",\n",
      "      \"full_name\": \"ToniPons97/mad-oct-2018\",\n",
      "      \"private\": false,\n",
      "      \"owner\": {\n",
      "            \"login\": \"ToniPons97\",\n",
      "            \"id\": 45130294,\n",
      "            \"node_id\": \"MDQ6VXNlcjQ1MTMwMjk0\",\n",
      "            \"avatar_url\": \"https://avatars3.githubusercontent.com/u/45130294?v=4\",\n",
      "            \"gravatar_id\": \"\",\n",
      "            \"url\": \"https://api.github.com/users/ToniPons97\",\n",
      "            \"html_url\": \"https://github.com/ToniPons97\",\n",
      "            \"followers_url\": \"https://api.github.com/users/ToniPons97/followers\",\n",
      "            \"following_url\": \"https://api.github.com/users/ToniPons97/following{/other_user}\",\n",
      "            \"gists_url\": \"https://api.github.com/users/ToniPons97/gists{/gist_id}\",\n",
      "            \"starred_url\": \"https://api.github.com/users/ToniPons97/starred{/owner}{/repo}\",\n",
      "            \"subscriptions_url\": \"https://api.github.com/users/ToniPons97/subscriptions\",\n",
      "            \"organizations_url\": \"https://api.github.com/users/ToniPons97/orgs\",\n",
      "            \"repos_url\": \"https://api.github.com/users/ToniPons97/repos\",\n",
      "            \"events_url\": \"https://api.github.com/users/ToniPons97/events{/privacy}\",\n",
      "            \"received_events_url\": \"https://api.github.com/users/ToniPons97/received_events\",\n",
      "            \"type\": \"User\",\n",
      "            \"site_admin\": false\n",
      "      },\n",
      "      \"html_url\": \"https://github.com/ToniPons97/mad-oct-2018\",\n",
      "      \"description\": \"Student labs for Ironhack data analytics bootcamp\",\n",
      "      \"fork\": true,\n",
      "      \"url\": \"https://api.github.com/repos/ToniPons97/mad-oct-2018\",\n",
      "      \"forks_url\": \"https://api.github.com/repos/ToniPons97/mad-oct-2018/forks\",\n",
      "      \"keys_url\": \"https://api.github.com/repos/ToniPons97/mad-oct-2018/keys{/key_id}\",\n",
      "      \"collaborators_url\": \"https://api.github.com/repos/ToniPons97/mad-oct-2018/collaborators{/collaborator}\",\n",
      "      \"teams_url\": \"https://api.github.com/repos/ToniPons97/mad-oct-2018/teams\",\n",
      "      \"hooks_url\": \"https://api.github.com/repos/ToniPons97/mad-oct-2018/hooks\",\n",
      "      \"issue_events_url\": \"https://api.github.com/repos/ToniPons97/mad-oct-2018/issues/events{/number}\",\n",
      "      \"events_url\": \"https://api.github.com/repos/ToniPons97/mad-oct-2018/events\",\n",
      "      \"assignees_url\": \"https://api.github.com/repos/ToniPons97/mad-oct-2018/assignees{/user}\",\n",
      "      \"branches_url\": \"https://api.github.com/repos/ToniPons97/mad-oct-2018/branches{/branch}\",\n",
      "      \"tags_url\": \"https://api.github.com/repos/ToniPons97/mad-oct-2018/tags\",\n",
      "      \"blobs_url\": \"https://api.github.com/repos/ToniPons97/mad-oct-2018/git/blobs{/sha}\",\n",
      "      \"git_tags_url\": \"https://api.github.com/repos/ToniPons97/mad-oct-2018/git/tags{/sha}\",\n",
      "      \"git_refs_url\": \"https://api.github.com/repos/ToniPons97/mad-oct-2018/git/refs{/sha}\",\n",
      "      \"trees_url\": \"https://api.github.com/repos/ToniPons97/mad-oct-2018/git/trees{/sha}\",\n",
      "      \"statuses_url\": \"https://api.github.com/repos/ToniPons97/mad-oct-2018/statuses/{sha}\",\n",
      "      \"languages_url\": \"https://api.github.com/repos/ToniPons97/mad-oct-2018/languages\",\n",
      "      \"stargazers_url\": \"https://api.github.com/repos/ToniPons97/mad-oct-2018/stargazers\",\n",
      "      \"contributors_url\": \"https://api.github.com/repos/ToniPons97/mad-oct-2018/contributors\",\n",
      "      \"subscribers_url\": \"https://api.github.com/repos/ToniPons97/mad-oct-2018/subscribers\",\n",
      "      \"subscription_url\": \"https://api.github.com/repos/ToniPons97/mad-oct-2018/subscription\",\n",
      "      \"commits_url\": \"https://api.github.com/repos/ToniPons97/mad-oct-2018/commits{/sha}\",\n",
      "      \"git_commits_url\": \"https://api.github.com/repos/ToniPons97/mad-oct-2018/git/commits{/sha}\",\n",
      "      \"comments_url\": \"https://api.github.com/repos/ToniPons97/mad-oct-2018/comments{/number}\",\n",
      "      \"issue_comment_url\": \"https://api.github.com/repos/ToniPons97/mad-oct-2018/issues/comments{/number}\",\n",
      "      \"contents_url\": \"https://api.github.com/repos/ToniPons97/mad-oct-2018/contents/{+path}\",\n",
      "      \"compare_url\": \"https://api.github.com/repos/ToniPons97/mad-oct-2018/compare/{base}...{head}\",\n",
      "      \"merges_url\": \"https://api.github.com/repos/ToniPons97/mad-oct-2018/merges\",\n",
      "      \"archive_url\": \"https://api.github.com/repos/ToniPons97/mad-oct-2018/{archive_format}{/ref}\",\n",
      "      \"downloads_url\": \"https://api.github.com/repos/ToniPons97/mad-oct-2018/downloads\",\n",
      "      \"issues_url\": \"https://api.github.com/repos/ToniPons97/mad-oct-2018/issues{/number}\",\n",
      "      \"pulls_url\": \"https://api.github.com/repos/ToniPons97/mad-oct-2018/pulls{/number}\",\n",
      "      \"milestones_url\": \"https://api.github.com/repos/ToniPons97/mad-oct-2018/milestones{/number}\",\n",
      "      \"notifications_url\": \"https://api.github.com/repos/ToniPons97/mad-oct-2018/notifications{?since,all,participating}\",\n",
      "      \"labels_url\": \"https://api.github.com/repos/ToniPons97/mad-oct-2018/labels{/name}\",\n",
      "      \"releases_url\": \"https://api.github.com/repos/ToniPons97/mad-oct-2018/releases{/id}\",\n",
      "      \"deployments_url\": \"https://api.github.com/repos/ToniPons97/mad-oct-2018/deployments\",\n",
      "      \"created_at\": \"2019-11-06T18:44:51Z\",\n",
      "      \"updated_at\": \"2019-11-06T18:44:52Z\",\n",
      "      \"pushed_at\": \"2019-08-19T11:16:55Z\",\n",
      "      \"git_url\": \"git://github.com/ToniPons97/mad-oct-2018.git\",\n",
      "      \"ssh_url\": \"git@github.com:ToniPons97/mad-oct-2018.git\",\n",
      "      \"clone_url\": \"https://github.com/ToniPons97/mad-oct-2018.git\",\n",
      "      \"svn_url\": \"https://github.com/ToniPons97/mad-oct-2018\",\n",
      "      \"homepage\": \"\",\n",
      "      \"size\": 116995,\n",
      "      \"stargazers_count\": 0,\n",
      "      \"watchers_count\": 0,\n",
      "      \"language\": null,\n",
      "      \"has_issues\": false,\n",
      "      \"has_projects\": true,\n",
      "      \"has_downloads\": true,\n",
      "      \"has_wiki\": true,\n",
      "      \"has_pages\": false,\n",
      "      \"forks_count\": 0,\n",
      "      \"mirror_url\": null,\n",
      "      \"archived\": false,\n",
      "      \"disabled\": false,\n",
      "      \"open_issues_count\": 0,\n",
      "      \"license\": {\n",
      "            \"key\": \"unlicense\",\n",
      "            \"name\": \"The Unlicense\",\n",
      "            \"spdx_id\": \"Unlicense\",\n",
      "            \"url\": \"https://api.github.com/licenses/unlicense\",\n",
      "            \"node_id\": \"MDc6TGljZW5zZTE1\"\n",
      "      },\n",
      "      \"forks\": 0,\n",
      "      \"open_issues\": 0,\n",
      "      \"watchers\": 0,\n",
      "      \"default_branch\": \"master\"\n",
      "}\n"
     ]
    }
   ],
   "source": [
    "# To print the JSON response in a pretty way\n",
    "\n",
    "print(json.dumps(forks_resp_json[0], indent=6))"
   ]
  },
  {
   "cell_type": "markdown",
   "metadata": {},
   "source": [
    "#### 2. Loop the JSON response to find out the language attribute of each fork. Use an array to store the language attributes of each fork.\n",
    "Hint: Each language should appear only once in your array.\n",
    "Print the language array. It should be something like: [\"Jupyter Notebook\", \"HTML\"]"
   ]
  },
  {
   "cell_type": "code",
   "execution_count": 35,
   "metadata": {},
   "outputs": [
    {
     "data": {
      "text/plain": [
       "'Jupyter Notebook'"
      ]
     },
     "execution_count": 35,
     "metadata": {},
     "output_type": "execute_result"
    }
   ],
   "source": [
    "forks_resp_json[1][\"language\"]"
   ]
  },
  {
   "cell_type": "code",
   "execution_count": 11,
   "metadata": {},
   "outputs": [
    {
     "data": {
      "text/plain": [
       "15"
      ]
     },
     "execution_count": 11,
     "metadata": {},
     "output_type": "execute_result"
    }
   ],
   "source": [
    "len(forks_resp_json) #the repo has 15 forks?"
   ]
  },
  {
   "cell_type": "code",
   "execution_count": 19,
   "metadata": {},
   "outputs": [],
   "source": [
    "# Just checking that there is no limit of entries per page,\n",
    "# I so requested 100 entries per page adding ?per_page=100\n",
    "\n",
    "url = 'https://api.github.com/repos/ironhack-datalabs/madrid-oct-2018/forks?per_page=100'\n",
    "\n",
    "forks_response = requests.get(url)\n",
    "\n",
    "forks_resp_json = forks_response.json()"
   ]
  },
  {
   "cell_type": "code",
   "execution_count": 29,
   "metadata": {},
   "outputs": [
    {
     "data": {
      "text/plain": [
       "15"
      ]
     },
     "execution_count": 29,
     "metadata": {},
     "output_type": "execute_result"
    }
   ],
   "source": [
    "len(forks_resp_json) \n",
    "\n",
    "#it seems there is no change in length meaning 15 is the total nº of forks of the repo"
   ]
  },
  {
   "cell_type": "code",
   "execution_count": 41,
   "metadata": {},
   "outputs": [
    {
     "name": "stdout",
     "output_type": "stream",
     "text": [
      "['Jupyter Notebook', 'HTML']\n"
     ]
    }
   ],
   "source": [
    "# the loop needs to access each entry and retrieve the language\n",
    "# so essentiatlly we can use forks_resp_json[1][\"language\"] and change index\n",
    "\n",
    "languages=[]\n",
    "for entry in forks_resp_json:\n",
    "    if entry[\"language\"] not in languages and entry[\"language\"]!= None :\n",
    "        #print(entry[\"language\"])\n",
    "        languages.append(str(entry[\"language\"]))\n",
    "print(languages)\n",
    "\n",
    "#It seems that there are two languages and that at least 1 entry didn't have a language\n",
    "#hence the \"None\" so I updated the code so if an entry doesn't have a language that\n",
    "# \"None\" isn't considered a language and added to the list"
   ]
  },
  {
   "cell_type": "markdown",
   "metadata": {},
   "source": [
    "## Challenge 2: Count Commits\n",
    "Count how many commits were made in the month of october of 2018.\n",
    "#### 1. Obtain all the commits made in October 2018 via API, which is a JSON array that contains multiple commit objects."
   ]
  },
  {
   "cell_type": "code",
   "execution_count": 42,
   "metadata": {},
   "outputs": [],
   "source": [
    "# Get requests of the forks of the repository (100 per page)\n",
    "\n",
    "url = 'https://api.github.com/repos/ironhack-datalabs/madrid-oct-2018/commits?per_page=100'\n",
    "\n",
    "commits_response = requests.get(url)\n",
    "\n",
    "#response in the form of a list\n",
    "\n",
    "commits_resp_json = commits_response.json()"
   ]
  },
  {
   "cell_type": "code",
   "execution_count": 43,
   "metadata": {
    "collapsed": true
   },
   "outputs": [
    {
     "name": "stdout",
     "output_type": "stream",
     "text": [
      "{\n",
      "      \"sha\": \"1638e5506e6947b77bfe78761d345476ae80d017\",\n",
      "      \"node_id\": \"MDY6Q29tbWl0MTUzNzIwODA0OjE2MzhlNTUwNmU2OTQ3Yjc3YmZlNzg3NjFkMzQ1NDc2YWU4MGQwMTc=\",\n",
      "      \"commit\": {\n",
      "            \"author\": {\n",
      "                  \"name\": \"Marc Pomar\",\n",
      "                  \"email\": \"marc@faable.com\",\n",
      "                  \"date\": \"2019-08-19T11:11:36Z\"\n",
      "            },\n",
      "            \"committer\": {\n",
      "                  \"name\": \"Marc Pomar\",\n",
      "                  \"email\": \"marc@faable.com\",\n",
      "                  \"date\": \"2019-08-19T11:11:36Z\"\n",
      "            },\n",
      "            \"message\": \"Cambiar los autores\",\n",
      "            \"tree\": {\n",
      "                  \"sha\": \"51812285dc70ac37103735ee7ed672befc582b5f\",\n",
      "                  \"url\": \"https://api.github.com/repos/ironhack-datalabs/mad-oct-2018/git/trees/51812285dc70ac37103735ee7ed672befc582b5f\"\n",
      "            },\n",
      "            \"url\": \"https://api.github.com/repos/ironhack-datalabs/mad-oct-2018/git/commits/1638e5506e6947b77bfe78761d345476ae80d017\",\n",
      "            \"comment_count\": 0,\n",
      "            \"verification\": {\n",
      "                  \"verified\": false,\n",
      "                  \"reason\": \"unsigned\",\n",
      "                  \"signature\": null,\n",
      "                  \"payload\": null\n",
      "            }\n",
      "      },\n",
      "      \"url\": \"https://api.github.com/repos/ironhack-datalabs/mad-oct-2018/commits/1638e5506e6947b77bfe78761d345476ae80d017\",\n",
      "      \"html_url\": \"https://github.com/ironhack-datalabs/mad-oct-2018/commit/1638e5506e6947b77bfe78761d345476ae80d017\",\n",
      "      \"comments_url\": \"https://api.github.com/repos/ironhack-datalabs/mad-oct-2018/commits/1638e5506e6947b77bfe78761d345476ae80d017/comments\",\n",
      "      \"author\": {\n",
      "            \"login\": \"boyander\",\n",
      "            \"id\": 568638,\n",
      "            \"node_id\": \"MDQ6VXNlcjU2ODYzOA==\",\n",
      "            \"avatar_url\": \"https://avatars1.githubusercontent.com/u/568638?v=4\",\n",
      "            \"gravatar_id\": \"\",\n",
      "            \"url\": \"https://api.github.com/users/boyander\",\n",
      "            \"html_url\": \"https://github.com/boyander\",\n",
      "            \"followers_url\": \"https://api.github.com/users/boyander/followers\",\n",
      "            \"following_url\": \"https://api.github.com/users/boyander/following{/other_user}\",\n",
      "            \"gists_url\": \"https://api.github.com/users/boyander/gists{/gist_id}\",\n",
      "            \"starred_url\": \"https://api.github.com/users/boyander/starred{/owner}{/repo}\",\n",
      "            \"subscriptions_url\": \"https://api.github.com/users/boyander/subscriptions\",\n",
      "            \"organizations_url\": \"https://api.github.com/users/boyander/orgs\",\n",
      "            \"repos_url\": \"https://api.github.com/users/boyander/repos\",\n",
      "            \"events_url\": \"https://api.github.com/users/boyander/events{/privacy}\",\n",
      "            \"received_events_url\": \"https://api.github.com/users/boyander/received_events\",\n",
      "            \"type\": \"User\",\n",
      "            \"site_admin\": false\n",
      "      },\n",
      "      \"committer\": {\n",
      "            \"login\": \"boyander\",\n",
      "            \"id\": 568638,\n",
      "            \"node_id\": \"MDQ6VXNlcjU2ODYzOA==\",\n",
      "            \"avatar_url\": \"https://avatars1.githubusercontent.com/u/568638?v=4\",\n",
      "            \"gravatar_id\": \"\",\n",
      "            \"url\": \"https://api.github.com/users/boyander\",\n",
      "            \"html_url\": \"https://github.com/boyander\",\n",
      "            \"followers_url\": \"https://api.github.com/users/boyander/followers\",\n",
      "            \"following_url\": \"https://api.github.com/users/boyander/following{/other_user}\",\n",
      "            \"gists_url\": \"https://api.github.com/users/boyander/gists{/gist_id}\",\n",
      "            \"starred_url\": \"https://api.github.com/users/boyander/starred{/owner}{/repo}\",\n",
      "            \"subscriptions_url\": \"https://api.github.com/users/boyander/subscriptions\",\n",
      "            \"organizations_url\": \"https://api.github.com/users/boyander/orgs\",\n",
      "            \"repos_url\": \"https://api.github.com/users/boyander/repos\",\n",
      "            \"events_url\": \"https://api.github.com/users/boyander/events{/privacy}\",\n",
      "            \"received_events_url\": \"https://api.github.com/users/boyander/received_events\",\n",
      "            \"type\": \"User\",\n",
      "            \"site_admin\": false\n",
      "      },\n",
      "      \"parents\": [\n",
      "            {\n",
      "                  \"sha\": \"f332b5e6fcea965dc80f62220d7ee1457b04b90d\",\n",
      "                  \"url\": \"https://api.github.com/repos/ironhack-datalabs/mad-oct-2018/commits/f332b5e6fcea965dc80f62220d7ee1457b04b90d\",\n",
      "                  \"html_url\": \"https://github.com/ironhack-datalabs/mad-oct-2018/commit/f332b5e6fcea965dc80f62220d7ee1457b04b90d\"\n",
      "            }\n",
      "      ]\n",
      "}\n"
     ]
    }
   ],
   "source": [
    "# To print the JSON response in a pretty way\n",
    "\n",
    "print(json.dumps(commits_resp_json[0], indent=6))"
   ]
  },
  {
   "cell_type": "code",
   "execution_count": 47,
   "metadata": {},
   "outputs": [
    {
     "data": {
      "text/plain": [
       "dict_keys(['sha', 'node_id', 'commit', 'url', 'html_url', 'comments_url', 'author', 'committer', 'parents'])"
      ]
     },
     "execution_count": 47,
     "metadata": {},
     "output_type": "execute_result"
    }
   ],
   "source": [
    "commits_resp_json[0].keys()"
   ]
  },
  {
   "cell_type": "code",
   "execution_count": 48,
   "metadata": {},
   "outputs": [
    {
     "data": {
      "text/plain": [
       "100"
      ]
     },
     "execution_count": 48,
     "metadata": {},
     "output_type": "execute_result"
    }
   ],
   "source": [
    "len(commits_resp_json) # let's check if there are more pages with info"
   ]
  },
  {
   "cell_type": "code",
   "execution_count": 52,
   "metadata": {},
   "outputs": [
    {
     "data": {
      "text/plain": [
       "{'next': {'url': 'https://api.github.com/repositories/153720804/commits?per_page=100&page=2',\n",
       "  'rel': 'next'},\n",
       " 'last': {'url': 'https://api.github.com/repositories/153720804/commits?per_page=100&page=4',\n",
       "  'rel': 'last'}}"
      ]
     },
     "execution_count": 52,
     "metadata": {},
     "output_type": "execute_result"
    }
   ],
   "source": [
    "#we can access that info with the atribute .links where we get the next page URL\n",
    "#and the last\n",
    "\n",
    "commits_response.links "
   ]
  },
  {
   "cell_type": "code",
   "execution_count": 56,
   "metadata": {},
   "outputs": [
    {
     "data": {
      "text/plain": [
       "'https://api.github.com/repositories/153720804/commits?per_page=100&page=4'"
      ]
     },
     "execution_count": 56,
     "metadata": {},
     "output_type": "execute_result"
    }
   ],
   "source": [
    "#last page URL\n",
    "linklast = commits_response.links[\"last\"][\"url\"]\n",
    "linklast"
   ]
  },
  {
   "cell_type": "code",
   "execution_count": 57,
   "metadata": {},
   "outputs": [
    {
     "data": {
      "text/plain": [
       "4"
      ]
     },
     "execution_count": 57,
     "metadata": {},
     "output_type": "execute_result"
    }
   ],
   "source": [
    "#We can just copy the number 4 or story it in a variable but let's use RegEx\n",
    "\n",
    "import re\n",
    "\n",
    "totpag=int(re.findall(r\"\\d+\",linklast )[-1])\n",
    "totpag"
   ]
  },
  {
   "cell_type": "code",
   "execution_count": 59,
   "metadata": {},
   "outputs": [],
   "source": [
    "#Let's loop now to obtain all the pages with the commit entries\n",
    "\n",
    "commits=[]\n",
    "\n",
    "for page in range(1,totpag + 1):\n",
    "    \n",
    "    url = ('https://api.github.com/repos/ironhack-datalabs/'\n",
    "           'madrid-oct-2018/commits?per_page=100') + str(page)\n",
    "    \n",
    "    # make the request and store it as a json so it's a list type\n",
    "    \n",
    "    commits_response = requests.get(url).json() \n",
    "    \n",
    "    #join each page to the commits list\n",
    "    \n",
    "    commits += commits_response\n",
    "\n",
    "    # all the commits are contained in the list commits"
   ]
  },
  {
   "cell_type": "markdown",
   "metadata": {},
   "source": [
    "#### 2. Count how many commit objects are contained in the array."
   ]
  },
  {
   "cell_type": "code",
   "execution_count": 63,
   "metadata": {},
   "outputs": [
    {
     "data": {
      "text/plain": [
       "400"
      ]
     },
     "execution_count": 63,
     "metadata": {},
     "output_type": "execute_result"
    }
   ],
   "source": [
    "len(commits) #it seems we do have all our data, 4 pages of 100 entries/page"
   ]
  },
  {
   "cell_type": "markdown",
   "metadata": {},
   "source": [
    "## Challenge 3: Hidden Cold Joke\n",
    "\n",
    "Using Python, call Github API to find out the cold joke contained in the 24 secret files in the following repo:\n",
    "\n",
    "https://github.com/ironhack-datalabs/scavenger\n",
    "\n",
    "The filenames of the secret files contain .scavengerhunt and they are scattered in different directories of this repo. The secret files are named from .0001.scavengerhunt to .0024.scavengerhunt. They are scattered randomly throughout this repo. You need to search for these files by calling the Github API, not searching the local files on your computer.\n",
    "\n",
    "#### 1. Find the secret files."
   ]
  },
  {
   "cell_type": "code",
   "execution_count": 66,
   "metadata": {},
   "outputs": [
    {
     "name": "stdout",
     "output_type": "stream",
     "text": [
      "Mireia's token:········\n"
     ]
    }
   ],
   "source": [
    "import getpass\n",
    "# To keep your token secured\n",
    "\n",
    "username = 'mg365'\n",
    "\n",
    "token = getpass.getpass(prompt='Mireia\\'s token:')\n"
   ]
  },
  {
   "cell_type": "code",
   "execution_count": 126,
   "metadata": {},
   "outputs": [],
   "source": [
    "url = 'https://api.github.com/repos/ironhack-datalabs/scavenger/contents'\n",
    "\n",
    "\n",
    "payload = {}\n",
    "headers = {'Accept': 'application/vnd.github.v3.raw'}\n",
    "\n",
    "jokes_response = requests.request(\n",
    "    \"GET\", url, headers=headers, data = payload, auth=(username, token)\n",
    ")\n",
    "\n",
    "jokes_response_json = jokes_response.json()"
   ]
  },
  {
   "cell_type": "code",
   "execution_count": 274,
   "metadata": {
    "collapsed": true
   },
   "outputs": [
    {
     "name": "stdout",
     "output_type": "stream",
     "text": [
      "{\n",
      "      \"name\": \".0001.scavengerhunt\",\n",
      "      \"path\": \"98750/.0001.scavengerhunt\",\n",
      "      \"sha\": \"2add7632f1323136324efbf38ec66db1838b6173\",\n",
      "      \"size\": 3,\n",
      "      \"url\": \"https://api.github.com/repos/ironhack-datalabs/scavenger/contents/98750/.0001.scavengerhunt?ref=master\",\n",
      "      \"html_url\": \"https://github.com/ironhack-datalabs/scavenger/blob/master/98750/.0001.scavengerhunt\",\n",
      "      \"git_url\": \"https://api.github.com/repos/ironhack-datalabs/scavenger/git/blobs/2add7632f1323136324efbf38ec66db1838b6173\",\n",
      "      \"download_url\": \"https://raw.githubusercontent.com/ironhack-datalabs/scavenger/master/98750/.0001.scavengerhunt\",\n",
      "      \"type\": \"file\",\n",
      "      \"_links\": {\n",
      "            \"self\": \"https://api.github.com/repos/ironhack-datalabs/scavenger/contents/98750/.0001.scavengerhunt?ref=master\",\n",
      "            \"git\": \"https://api.github.com/repos/ironhack-datalabs/scavenger/git/blobs/2add7632f1323136324efbf38ec66db1838b6173\",\n",
      "            \"html\": \"https://github.com/ironhack-datalabs/scavenger/blob/master/98750/.0001.scavengerhunt\"\n",
      "      }\n",
      "}\n"
     ]
    }
   ],
   "source": [
    "print(json.dumps(jokes_response_json[0], indent=6))"
   ]
  },
  {
   "cell_type": "code",
   "execution_count": null,
   "metadata": {},
   "outputs": [],
   "source": [
    "# I need to extract the names of the folders and access them to find the files"
   ]
  },
  {
   "cell_type": "code",
   "execution_count": 142,
   "metadata": {},
   "outputs": [],
   "source": [
    "folders = [\"\".join(folder[\"name\"]) for folder in jokes_response_json if folder[\"name\"]!=\".gitignore\"]"
   ]
  },
  {
   "cell_type": "code",
   "execution_count": 145,
   "metadata": {},
   "outputs": [
    {
     "name": "stdout",
     "output_type": "stream",
     "text": [
      "['15024', '15534', '17020', '30351', '40303', '44639', '45525', '47222', '47830', '49418', '50896', '55417', '55685', '60224', '64880', '66032', '68848', '70751', '70985', '88596', '89046', '89338', '91701', '97881', '98750']\n"
     ]
    }
   ],
   "source": [
    "print(folders)"
   ]
  },
  {
   "cell_type": "code",
   "execution_count": 146,
   "metadata": {},
   "outputs": [],
   "source": [
    "# I don't know where each file is so I am getting all the inside of the folders in a list\n",
    "\n",
    "files=[]\n",
    "\n",
    "for number in folders:\n",
    "    url = 'https://api.github.com/repos/ironhack-datalabs/scavenger/contents/'+number\n",
    "\n",
    "    payload = {}\n",
    "    headers = {'Accept': 'application/vnd.github.v3.raw'}\n",
    "\n",
    "    jokes_response = requests.request(\n",
    "        \"GET\", url, headers=headers, data = payload, auth=(username, token))\n",
    "    \n",
    "\n",
    "    jokes_response_json = jokes_response.json()\n",
    "    files += jokes_response_json"
   ]
  },
  {
   "cell_type": "code",
   "execution_count": 340,
   "metadata": {
    "collapsed": true
   },
   "outputs": [
    {
     "data": {
      "text/plain": [
       "{'name': '.0006.scavengerhunt',\n",
       " 'path': '15024/.0006.scavengerhunt',\n",
       " 'sha': '1c9064284a24b3486015eafdb391b141c27ada2b',\n",
       " 'size': 3,\n",
       " 'url': 'https://api.github.com/repos/ironhack-datalabs/scavenger/contents/15024/.0006.scavengerhunt?ref=master',\n",
       " 'html_url': 'https://github.com/ironhack-datalabs/scavenger/blob/master/15024/.0006.scavengerhunt',\n",
       " 'git_url': 'https://api.github.com/repos/ironhack-datalabs/scavenger/git/blobs/1c9064284a24b3486015eafdb391b141c27ada2b',\n",
       " 'download_url': 'https://raw.githubusercontent.com/ironhack-datalabs/scavenger/master/15024/.0006.scavengerhunt',\n",
       " 'type': 'file',\n",
       " '_links': {'self': 'https://api.github.com/repos/ironhack-datalabs/scavenger/contents/15024/.0006.scavengerhunt?ref=master',\n",
       "  'git': 'https://api.github.com/repos/ironhack-datalabs/scavenger/git/blobs/1c9064284a24b3486015eafdb391b141c27ada2b',\n",
       "  'html': 'https://github.com/ironhack-datalabs/scavenger/blob/master/15024/.0006.scavengerhunt'}}"
      ]
     },
     "execution_count": 340,
     "metadata": {},
     "output_type": "execute_result"
    }
   ],
   "source": [
    "files[0]\n",
    "#I need to get the path and the name, the name to sort and the path to retrieve the info"
   ]
  },
  {
   "cell_type": "markdown",
   "metadata": {},
   "source": [
    "#### 2.  Sort the filenames ascendingly."
   ]
  },
  {
   "cell_type": "code",
   "execution_count": 336,
   "metadata": {},
   "outputs": [],
   "source": [
    "# to get the path and the name\n",
    "namepath = [(file[\"name\"],file[\"path\"]) for file in files]"
   ]
  },
  {
   "cell_type": "code",
   "execution_count": 337,
   "metadata": {},
   "outputs": [],
   "source": [
    "# sort it by name\n",
    "\n",
    "namepath.sort()"
   ]
  },
  {
   "cell_type": "code",
   "execution_count": null,
   "metadata": {},
   "outputs": [],
   "source": [
    "#select the first 24 tuples (the the scavangerhunt files)\n",
    "\n",
    "namepath24 = namepath[:24]"
   ]
  },
  {
   "cell_type": "code",
   "execution_count": 339,
   "metadata": {},
   "outputs": [
    {
     "name": "stdout",
     "output_type": "stream",
     "text": [
      "['98750/.0001.scavengerhunt', '88596/.0002.scavengerhunt', '60224/.0003.scavengerhunt', '68848/.0004.scavengerhunt', '44639/.0005.scavengerhunt', '15024/.0006.scavengerhunt', '17020/.0007.scavengerhunt', '15534/.0008.scavengerhunt', '97881/.0009.scavengerhunt', '47830/.0010.scavengerhunt', '50896/.0011.scavengerhunt', '15534/.0012.scavengerhunt', '89338/.0013.scavengerhunt', '49418/.0014.scavengerhunt', '91701/.0015.scavengerhunt', '47222/.0016.scavengerhunt', '70985/.0017.scavengerhunt', '45525/.0018.scavengerhunt', '70751/.0019.scavengerhunt', '55685/.0020.scavengerhunt', '30351/.0021.scavengerhunt', '40303/.0022.scavengerhunt', '55417/.0023.scavengerhunt', '47222/.0024.scavengerhunt']\n"
     ]
    }
   ],
   "source": [
    "# let's take only the paths\n",
    "\n",
    "paths=[item[1] for item in namepath24 ]\n",
    "print(paths)"
   ]
  },
  {
   "cell_type": "markdown",
   "metadata": {},
   "source": [
    "#### 3. Read the content of each secret files into an array of strings.\n",
    "Since the response is encoded, you will need to send the following information in the header of your request:\n",
    "````python\n",
    "headers = {'Accept': 'application/vnd.github.v3.raw'}\n",
    "````"
   ]
  },
  {
   "cell_type": "code",
   "execution_count": 305,
   "metadata": {},
   "outputs": [],
   "source": [
    "# to retrieve what's inside the files using the files paths\n",
    "\n",
    "bytes_data=[]\n",
    "\n",
    "for path in paths:\n",
    "    url = 'https://api.github.com/repos/ironhack-datalabs/scavenger/contents/'+path\n",
    "\n",
    "    payload = {}\n",
    "    headers = {'Accept': 'application/vnd.github.v3.raw'}\n",
    "\n",
    "    jokes_response = requests.request(\n",
    "        \"GET\", url, headers=headers, data = payload, auth=(username, token))\n",
    "    \n",
    "\n",
    "    bytes_data += jokes_response"
   ]
  },
  {
   "cell_type": "code",
   "execution_count": 309,
   "metadata": {},
   "outputs": [
    {
     "name": "stdout",
     "output_type": "stream",
     "text": [
      "[b'In\\n', b'data\\n', b'science,\\n', b'80\\n', b'percent\\n', b'of\\n', b'time\\n', b'spent\\n', b'is\\n', b'preparing\\n', b'data,\\n', b'20\\n', b'percent\\n', b'of\\n', b'time\\n', b'is\\n', b'spent\\n', b'complaining\\n', b'about\\n', b'the\\n', b'need\\n', b'to\\n', b'prepare\\n', b'data.\\n']\n"
     ]
    }
   ],
   "source": [
    "#the info obtained is in bytes\n",
    "print(bytes_data)"
   ]
  },
  {
   "cell_type": "markdown",
   "metadata": {},
   "source": [
    "#### 4. Concatenate the strings in the array separating each two with a whitespace."
   ]
  },
  {
   "cell_type": "code",
   "execution_count": 319,
   "metadata": {},
   "outputs": [],
   "source": [
    "# convert the byte info into strings\n",
    "\n",
    "bytes_decoded = [item.decode() for item in bytes_data]"
   ]
  },
  {
   "cell_type": "code",
   "execution_count": 321,
   "metadata": {},
   "outputs": [
    {
     "name": "stdout",
     "output_type": "stream",
     "text": [
      "['In\\n', 'data\\n', 'science,\\n', '80\\n', 'percent\\n', 'of\\n', 'time\\n', 'spent\\n', 'is\\n', 'preparing\\n', 'data,\\n', '20\\n', 'percent\\n', 'of\\n', 'time\\n', 'is\\n', 'spent\\n', 'complaining\\n', 'about\\n', 'the\\n', 'need\\n', 'to\\n', 'prepare\\n', 'data.\\n']\n"
     ]
    }
   ],
   "source": [
    "print(bytes_decoded)"
   ]
  },
  {
   "cell_type": "code",
   "execution_count": 324,
   "metadata": {},
   "outputs": [],
   "source": [
    "#clean it with Regex\n",
    "\n",
    "import re\n",
    "joke = [re.sub(r\"\\n\",\"\",item) for item in bytes_decoded]"
   ]
  },
  {
   "cell_type": "code",
   "execution_count": 328,
   "metadata": {},
   "outputs": [],
   "source": [
    "# Concanate the strings\n",
    "\n",
    "ironjoke = \" \".join(joke)"
   ]
  },
  {
   "cell_type": "markdown",
   "metadata": {},
   "source": [
    "#### 5. Print out the joke."
   ]
  },
  {
   "cell_type": "code",
   "execution_count": 341,
   "metadata": {},
   "outputs": [
    {
     "name": "stdout",
     "output_type": "stream",
     "text": [
      "In data science, 80 percent of time spent is preparing data, 20 percent of time is spent complaining about the need to prepare data.\n"
     ]
    }
   ],
   "source": [
    "print(ironjoke)"
   ]
  }
 ],
 "metadata": {
  "kernelspec": {
   "display_name": "Python 3",
   "language": "python",
   "name": "python3"
  },
  "language_info": {
   "codemirror_mode": {
    "name": "ipython",
    "version": 3
   },
   "file_extension": ".py",
   "mimetype": "text/x-python",
   "name": "python",
   "nbconvert_exporter": "python",
   "pygments_lexer": "ipython3",
   "version": "3.8.3"
  },
  "toc": {
   "base_numbering": 1,
   "nav_menu": {},
   "number_sections": true,
   "sideBar": true,
   "skip_h1_title": false,
   "title_cell": "Table of Contents",
   "title_sidebar": "Contents",
   "toc_cell": false,
   "toc_position": {},
   "toc_section_display": true,
   "toc_window_display": false
  }
 },
 "nbformat": 4,
 "nbformat_minor": 2
}
